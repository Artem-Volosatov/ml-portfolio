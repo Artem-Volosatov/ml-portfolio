{
 "cells": [
  {
   "cell_type": "markdown",
   "metadata": {
    "id": "MvdhFwGgcmTR"
   },
   "source": [
    "# Задачи для экзамена по курсу Численные методы выпуклой оптимизации, осень 2024\n",
    "\n",
    "Решения задач должны быть выполнены студентом самостоятельно. При обнаружении похожих решений у разных студентов им всем будет поставлен 0 баллов за весь экзамен."
   ]
  },
  {
   "cell_type": "markdown",
   "metadata": {
    "id": "u1VSj4vGcpwn"
   },
   "source": [
    "## Задача 1 (10 pts)\n",
    "\n",
    "Пусть дан осциллирующий временой рад $y$, и вам необходимо построить его гладкую аппроксимацию, которая бы отслеживала изменение тренда в этом временном ряду.\n",
    "Это можно сделать, решив следующую задачу оптимизации\n",
    "\n",
    "$$ \\min_x \\| x - y \\|^2_2 + \\lambda \\sum_{i=1}^{n-2} h_{\\mu}([Dx]_i), $$\n",
    "\n",
    "где $D$ - трёхдиагональная матрица с элементами (1, -2, 1) на главных диагоналях, такая что $[Dx]_i = x_i - 2 x_{i+1} + x_{i+2}, 1 \\leq i \\leq n-2$, функция $h_{\\mu}(x) = \\begin{cases} x^2 / 2\\mu, & |x| \\leq \\mu \\\\ |x| - \\mu/ 2, & |x| > \\mu \\end{cases}$ является дифференцируемой и выпуклой. Параметр $\\lambda > 0$ задан, параметр $\\mu > 0$ также необходимо задать заранее.\n",
    "\n",
    "__1)__ (1 pts) докажите указанные выше свойства функции $h_{\\mu}$\n",
    "\n",
    "__2)__ (6 pts) сравните метод тяжёлого шарика, ускоренный градиентный метод и квазиньютоновский метод (LBFGS) для решения такой задачи. Значения $y$ можно взять из [файла](https://drive.google.com/file/d/15R9_atkEMiR3l_cOhK-PdvHsj8ecHJso/view?usp=sharing). Постройте графики сходимости и получите время работы каждого из меодов. Протестируйте несколько значений для размера шага в первых двух методах и размера истории в LBFGS. Какой метод оказался наилучшим для решения поставленной задачи и почему?\n",
    "\n",
    "__3)__ (3 pts) Рассмотрите различные значения параметров $\\lambda$ и $\\mu$. Прокомментируйте, как их значения влияют на свойства решения.\n"
   ]
  },
  {
   "cell_type": "code",
   "execution_count": null,
   "metadata": {
    "id": "CDPkk2YYcyWW"
   },
   "outputs": [],
   "source": [
    "# Место для вашего решения"
   ]
  },
  {
   "cell_type": "markdown",
   "metadata": {
    "id": "PpTuoieJcdLM"
   },
   "source": [
    "## Задача 2 (6 pts)\n",
    "\n",
    "Пусть даны два графа $G_A$ и $G_B$ с матрицами смежности $A$ и $B$ соответственно. [Задача об изоморфизме графов](https://en.wikipedia.org/wiki/Graph_isomorphism_problem) состоит в поиске такой матрицы перестановки $P$, что выполнено\n",
    "\n",
    "$$\n",
    "PAP^{\\top} = B.\n",
    "$$\n",
    "\n",
    "На данный момент неизвестно является ли эта задача NP-полной или лежит в классе P.\n",
    "\n",
    "1) (2 pts) запишите ограничения на искомую матрицу $P$ и покажите, что задача об изоморфизме графа может быть записана как бинарная задачу линейного программирования, то есть как задача линейного программирования, в которой элементами решения могут быть только 0 и 1. Вам необходимо привести целевую функцию в максимально простом виде (чем проще целевая функция, тем быстрее будет работать солвер), ключевое слово min или max, а также допустимое множество. (**Hint**: подумайте как задачу о существовании некоторого элемента в множестве записать в виде задачи оптимизации)\n",
    "\n",
    "2) (2 pts) далее рассмотрите релаксацию поставленной задачи, в которой элементы решения могут принимать значения в отрезке $[0, 1]$. Если решение такой задачи не нашлось, то это значит, что графы не изоморфны. Если решение нашлось и элементы решения только 0 или 1, то найдена искомая перестановка. Конечно, такое случается достаточно редко. Чтобы форсировать бинарность элементов решения, к целевой функции исходной задачи можно добавить слагаемое вида $\\langle W, P \\rangle$, где $W$ некоторая случайная матрица, например с элементами из $N(0, 1)$ (возможно использование других распределений). Добавление такого слагаемого не повлияет на решение вопроса существования перестановки.\n",
    "\n",
    "3) (2 pts) Убедитесь, что графы с матрицами смежности, заданными [тут](https://web.stanford.edu/~boyd/cvxbook/cvxbook_additional_exercises/graph_isomorphism_data.py), являются изоморфными с помощью cvxpy. Для поиска матрицы перестановки, возможно, необходимо решать несколько задач линейного программирования для разных матриц $W$. Также рассмотрите несколько распределений для генерации матрицы $W$. Убедитесь, что найденная матрица действительно является матрицей перестановки. Для проверки бинарности элементов можно отслеживать величину $\\max_{(i, j)} P_{ij}(1 - P_{ij})$. После обнаружения матрицы перестановки выведите результат умножения матрицы $P^*$ на вектор $[1, 2, \\ldots, n]$ для демонстрации того, как надо переставить вершины исходного графа."
   ]
  },
  {
   "cell_type": "code",
   "execution_count": null,
   "metadata": {
    "id": "8Qn6gn-IcNst"
   },
   "outputs": [],
   "source": [
    "# Место для вашего решения"
   ]
  },
  {
   "cell_type": "markdown",
   "metadata": {
    "id": "stBKpg5PilQY"
   },
   "source": [
    "## Задача 3 (10 pts)\n",
    "\n",
    "__1.__ Скачайте с помощью кода, приведённого ниже, набор фотографий и нарисуйте какую-нибудь из них."
   ]
  },
  {
   "cell_type": "code",
   "execution_count": null,
   "metadata": {
    "id": "QFlSvHmNm1zO"
   },
   "outputs": [],
   "source": [
    "import sklearn.datasets as skldata\n",
    "import matplotlib.pyplot as plt\n",
    "import sklearn.decomposition as skdec\n",
    "%matplotlib inline\n",
    "data = skldata.fetch_olivetti_faces()\n",
    "import numpy as np\n",
    "print(\"Shape of data = {}\".format(data[\"images\"].shape))\n",
    "index = 73\n",
    "plt.imshow(data[\"images\"][index], cmap=plt.cm.Greys)\n",
    "plt.colorbar()\n",
    "_ = plt.axis(\"off\")"
   ]
  },
  {
   "cell_type": "markdown",
   "metadata": {
    "id": "JawAOaGIm4Zq"
   },
   "source": [
    "__2.__ Одним из способов обработки изображений, например для выделения наиболее важных сегментов используется метод неотрицательной матричной факторизации ([Nonnegative matrix factorization](https://arxiv.org/pdf/1401.5226.pdf)).\n",
    "Идея в том, чтобы решить следующую задачу\n",
    "\n",
    "\\begin{align*}\n",
    "& \\min_{W, H} \\frac12 \\|X - WH\\|^2_F \\\\\n",
    "\\text{s.t. } & W \\geq 0\\\\\n",
    "& H \\geq 0,\n",
    "\\end{align*}\n",
    "\n",
    "где знак $\\geq$ означает покомпонентное сравнение.\n",
    "Также матрицы $W$ и $H$ малого ранга, то есть $W \\in \\mathbb{R}^{m \\times k}$ и $H \\in \\mathbb{R}^{k \\times n}$, где $k$ - параметр, который необходимо настраивать.\n",
    "Чем больше $k$, тем точнее приближение, но и тем дольше будет решаться задача.\n",
    "Матрица $X \\in \\mathbb{R}^{m \\times n}$, где $m$ - это число фото в нашем наборе, а $n$ - это количество пикселей в каждой картинке, то есть каждая строка матрицы $X$ - это векторизованная картинка.\n",
    "\n",
    "**Вопросы**\n",
    "\n",
    "1) (1 pts) является ли эта задача выпуклой и почему?\n",
    "\n",
    "2) (1 pts) как можно интерпретировать факторы $W$ и $H$ и почему важна их покомпонентная неотрицательность?\n",
    "\n",
    "3) (6 pts) примените проксимальный градиентный метод и его ускоренную версию для поиска локального минимума поставленной задачи, нарисуйте графики сходимости и прокомментируйте результаты. Если на всех данных метод работает долго, выберете некоторое количество достаточно разнообразных фото, чтобы свойства результата сохранились.\n",
    "\n",
    "4) (1 pts) поскольку размерность $H$ - $k \\times n$, то каждую строку $H$ можно преобразовать в картинку аналогично тому, как были собраны строки матрицы $X$. Нарисуйте 10-50 картинок полученных из строк матрицы $H$. Что Вы заметили и как это соотносится с ответами на вопрос 2) предыдущего пункта? Используйте ```plt.colorbar()``` и цветовую схему ```plt.cm.Greys``` для более чёткого отображения значений пикселей\n",
    "\n",
    "5) (1 pts) Нарисуйте матрицу $W$ с помощью функции ```plt.imshow``` или ```plt.spy```. Насколько сильно она заполнена и почему?"
   ]
  },
  {
   "cell_type": "code",
   "execution_count": null,
   "metadata": {
    "id": "YbD2BSHycxGb"
   },
   "outputs": [],
   "source": [
    "# Место для вашего решения"
   ]
  },
  {
   "cell_type": "markdown",
   "metadata": {
    "id": "ETzSq0Q144Iw"
   },
   "source": [
    "## Задача 4 (10 pts)\n",
    "\n",
    "- (3 pts) Градостроитель хотел бы выбрать местоположение $x \\in \\mathbb{R}^2$ для нового склада.\n",
    "Оно должно быть близко к $n$ распределительным центрам, расположенным в $y_1, \\ldots, y_n \\in \\mathbb{R}^2$.\n",
    "Целевая функция для определения местоположения нового склада — это самое большое расстояние до распределительного центра.\n",
    "Сформулируйте задачу выпуклой оптимизации, которая помогает определить правильное местоположение и докажите, что она является таковой.\n",
    "\n",
    "- (3 pts) Используйте CVXPy для решения поставленной задачи. Данные для $y_i$ представлены ниже и взяты из набора данных с открытым исходным кодом о местоположении точек спроса в Сан-Франциско. Подробнее см. [здесь](https://github.com/huanfachen/Open_source_location_cover_models/tree/master).\n",
    "Используйте координаты $y_i$ из переменной ```target_demand_points``` для определения координат $y_i$. Нанесите полученное оптимальное положение для склада на тот же график, что и точки спроса."
   ]
  },
  {
   "cell_type": "code",
   "execution_count": 1,
   "metadata": {
    "id": "hBUcwZo45sPY"
   },
   "outputs": [],
   "source": [
    "# !pip install geopandas"
   ]
  },
  {
   "cell_type": "code",
   "execution_count": 1,
   "metadata": {
    "id": "P8bQuz4z5s1P"
   },
   "outputs": [],
   "source": [
    "import geopandas\n",
    "\n",
    "process = lambda df: as_gdf(df).sort_values(by=[\"NAME\"]).reset_index(drop=True)\n",
    "as_gdf = lambda df: geopandas.GeoDataFrame(df, geometry=pnts(df))\n",
    "pnts = lambda df: geopandas.points_from_xy(df.long, df.lat)\n",
    "\n",
    "def plot_results_on_map(study_area, clis):\n",
    "    clis = process(clis.copy())\n",
    "    fig, ax = plt.subplots(figsize=(6, 9))\n",
    "    markersize = 40\n",
    "    study_area.plot(ax=ax, alpha=0.5, fc=\"tan\", ec=\"k\", zorder=1)\n",
    "    gdf = geopandas.GeoDataFrame(clis[\"geometry\"])\n",
    "    zorder = 4\n",
    "    gdf.plot(ax=ax, zorder=zorder, ec=\"k\", markersize=markersize)"
   ]
  },
  {
   "cell_type": "code",
   "execution_count": 2,
   "metadata": {
    "id": "zBIkk86A5vZs"
   },
   "outputs": [
    {
     "data": {
      "text/html": [
       "<div>\n",
       "<style scoped>\n",
       "    .dataframe tbody tr th:only-of-type {\n",
       "        vertical-align: middle;\n",
       "    }\n",
       "\n",
       "    .dataframe tbody tr th {\n",
       "        vertical-align: top;\n",
       "    }\n",
       "\n",
       "    .dataframe thead th {\n",
       "        text-align: right;\n",
       "    }\n",
       "</style>\n",
       "<table border=\"1\" class=\"dataframe\">\n",
       "  <thead>\n",
       "    <tr style=\"text-align: right;\">\n",
       "      <th></th>\n",
       "      <th>Unnamed: 0</th>\n",
       "      <th>OBJECTID</th>\n",
       "      <th>ID</th>\n",
       "      <th>NAME</th>\n",
       "      <th>STATE_NAME</th>\n",
       "      <th>AREA</th>\n",
       "      <th>POP2000</th>\n",
       "      <th>HOUSEHOLDS</th>\n",
       "      <th>HSE_UNITS</th>\n",
       "      <th>BUS_COUNT</th>\n",
       "      <th>long</th>\n",
       "      <th>lat</th>\n",
       "    </tr>\n",
       "  </thead>\n",
       "  <tbody>\n",
       "    <tr>\n",
       "      <th>0</th>\n",
       "      <td>1</td>\n",
       "      <td>1</td>\n",
       "      <td>6081602900</td>\n",
       "      <td>60816029.0</td>\n",
       "      <td>California</td>\n",
       "      <td>0.48627</td>\n",
       "      <td>4135</td>\n",
       "      <td>1679</td>\n",
       "      <td>1715</td>\n",
       "      <td>112</td>\n",
       "      <td>-122.488653</td>\n",
       "      <td>37.650807</td>\n",
       "    </tr>\n",
       "    <tr>\n",
       "      <th>1</th>\n",
       "      <td>2</td>\n",
       "      <td>2</td>\n",
       "      <td>6081602800</td>\n",
       "      <td>60816028.0</td>\n",
       "      <td>California</td>\n",
       "      <td>0.47478</td>\n",
       "      <td>4831</td>\n",
       "      <td>1484</td>\n",
       "      <td>1506</td>\n",
       "      <td>59</td>\n",
       "      <td>-122.483550</td>\n",
       "      <td>37.659998</td>\n",
       "    </tr>\n",
       "    <tr>\n",
       "      <th>2</th>\n",
       "      <td>3</td>\n",
       "      <td>3</td>\n",
       "      <td>6081601700</td>\n",
       "      <td>60816017.0</td>\n",
       "      <td>California</td>\n",
       "      <td>0.46393</td>\n",
       "      <td>4155</td>\n",
       "      <td>1294</td>\n",
       "      <td>1313</td>\n",
       "      <td>55</td>\n",
       "      <td>-122.456484</td>\n",
       "      <td>37.663272</td>\n",
       "    </tr>\n",
       "    <tr>\n",
       "      <th>3</th>\n",
       "      <td>4</td>\n",
       "      <td>4</td>\n",
       "      <td>6081601900</td>\n",
       "      <td>60816019.0</td>\n",
       "      <td>California</td>\n",
       "      <td>0.81907</td>\n",
       "      <td>9041</td>\n",
       "      <td>3273</td>\n",
       "      <td>3330</td>\n",
       "      <td>118</td>\n",
       "      <td>-122.434247</td>\n",
       "      <td>37.662385</td>\n",
       "    </tr>\n",
       "    <tr>\n",
       "      <th>4</th>\n",
       "      <td>5</td>\n",
       "      <td>5</td>\n",
       "      <td>6081602500</td>\n",
       "      <td>60816025.0</td>\n",
       "      <td>California</td>\n",
       "      <td>0.46603</td>\n",
       "      <td>5146</td>\n",
       "      <td>1459</td>\n",
       "      <td>1467</td>\n",
       "      <td>44</td>\n",
       "      <td>-122.451187</td>\n",
       "      <td>37.640219</td>\n",
       "    </tr>\n",
       "  </tbody>\n",
       "</table>\n",
       "</div>"
      ],
      "text/plain": [
       "   Unnamed: 0  OBJECTID          ID        NAME  STATE_NAME     AREA  POP2000  \\\n",
       "0           1         1  6081602900  60816029.0  California  0.48627     4135   \n",
       "1           2         2  6081602800  60816028.0  California  0.47478     4831   \n",
       "2           3         3  6081601700  60816017.0  California  0.46393     4155   \n",
       "3           4         4  6081601900  60816019.0  California  0.81907     9041   \n",
       "4           5         5  6081602500  60816025.0  California  0.46603     5146   \n",
       "\n",
       "   HOUSEHOLDS  HSE_UNITS  BUS_COUNT        long        lat  \n",
       "0        1679       1715        112 -122.488653  37.650807  \n",
       "1        1484       1506         59 -122.483550  37.659998  \n",
       "2        1294       1313         55 -122.456484  37.663272  \n",
       "3        3273       3330        118 -122.434247  37.662385  \n",
       "4        1459       1467         44 -122.451187  37.640219  "
      ]
     },
     "execution_count": 2,
     "metadata": {},
     "output_type": "execute_result"
    }
   ],
   "source": [
    "import pandas as pd\n",
    "import geopandas as gpd\n",
    "import matplotlib.pyplot as plt\n",
    "\n",
    "map_area = gpd.read_file('ServiceAreas_4.shp').dissolve()\n",
    "\n",
    "demand_points = pd.read_csv('SF_demand_205_centroid_uniform_weight.csv')\n",
    "n_dem_pnts = demand_points.shape[0]\n",
    "demand_points.head()\n",
    "# Your solution is here"
   ]
  },
  {
   "cell_type": "code",
   "execution_count": 3,
   "metadata": {
    "id": "zuQ-VU1w5zXU"
   },
   "outputs": [],
   "source": [
    "# Extract some part of demand points\n",
    "target_demand_points = demand_points[:30]"
   ]
  },
  {
   "cell_type": "code",
   "execution_count": 4,
   "metadata": {
    "id": "AbEnFs8651FL"
   },
   "outputs": [
    {
     "data": {
      "image/png": "[encoded data removed]",
      "text/plain": [
       "<Figure size 600x900 with 1 Axes>"
      ]
     },
     "metadata": {},
     "output_type": "display_data"
    }
   ],
   "source": [
    "plot_results_on_map(map_area, clis=target_demand_points)"
   ]
  },
  {
   "cell_type": "code",
   "execution_count": null,
   "metadata": {
    "id": "uAImI_tn51uG"
   },
   "outputs": [],
   "source": [
    "# Место для вашего решения"
   ]
  },
  {
   "cell_type": "markdown",
   "metadata": {
    "id": "eufn4xhq6L9l"
   },
   "source": [
    "- (4 pts) Визуализация координат распределительных центров показывает, что на самом деле у нас есть две группы центров, которые должны обслуживаться двумя разными складами.\n",
    "Переформулируйте исходную задачу таким образом, чтобы её решение определяло позиции двух складов и автоматически назначала каждуый центр целевому складу. Введите новые переменные, если необходимо, и попробуйте решить её с помощью CVXPy. Чтобы сделать задачу подходящей для CVXPy, вы можете выбрать способ измерения расстояний такой, что итоговая задача станет задачей из класса смешанного целочисленного линейного программирования."
   ]
  },
  {
   "cell_type": "code",
   "execution_count": null,
   "metadata": {
    "id": "0AsxiAuX6zle"
   },
   "outputs": [],
   "source": [
    "# Место для вашего решения"
   ]
  }
 ],
 "metadata": {
  "colab": {
   "provenance": []
  },
  "kernelspec": {
   "display_name": "Python 3 (ipykernel)",
   "language": "python",
   "name": "python3"
  },
  "language_info": {
   "codemirror_mode": {
    "name": "ipython",
    "version": 3
   },
   "file_extension": ".py",
   "mimetype": "text/x-python",
   "name": "python",
   "nbconvert_exporter": "python",
   "pygments_lexer": "ipython3",
   "version": "3.9.13"
  }
 },
 "nbformat": 4,
 "nbformat_minor": 1
}
